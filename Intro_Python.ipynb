{
 "cells": [
  {
   "cell_type": "code",
   "execution_count": null,
   "metadata": {},
   "outputs": [],
   "source": []
  },
  {
   "cell_type": "markdown",
   "metadata": {},
   "source": [
    "# Jupyter Demo\n",
    "\n",
    "This is a note in Markdown"
   ]
  },
  {
   "cell_type": "code",
   "execution_count": null,
   "metadata": {},
   "outputs": [],
   "source": [
    "2+2"
   ]
  },
  {
   "cell_type": "code",
   "execution_count": null,
   "metadata": {},
   "outputs": [],
   "source": [
    "print(\"hello\")\n",
    "2+2\n",
    "3+3"
   ]
  },
  {
   "cell_type": "code",
   "execution_count": null,
   "metadata": {},
   "outputs": [],
   "source": [
    "just some code"
   ]
  },
  {
   "cell_type": "code",
   "execution_count": null,
   "metadata": {},
   "outputs": [],
   "source": []
  },
  {
   "cell_type": "markdown",
   "metadata": {},
   "source": [
    "---\n",
    "# hello world!"
   ]
  },
  {
   "cell_type": "code",
   "execution_count": null,
   "metadata": {},
   "outputs": [],
   "source": [
    "# Explore Jupyter Notebook!\n"
   ]
  },
  {
   "cell_type": "code",
   "execution_count": null,
   "metadata": {},
   "outputs": [],
   "source": []
  },
  {
   "cell_type": "code",
   "execution_count": null,
   "metadata": {},
   "outputs": [],
   "source": []
  },
  {
   "cell_type": "code",
   "execution_count": null,
   "metadata": {},
   "outputs": [],
   "source": []
  },
  {
   "cell_type": "markdown",
   "metadata": {},
   "source": [
    "### Learn the Basics:\n",
    "\n",
    "- __Syntax and grammar__\n",
    "- __Variables and Types__\n",
    "- __Basic Operators__\n",
    "- String Formatting\n",
    "- Basic String Operations\n",
    "- Lists\n",
    "- Dictionaries\n",
    "- Conditions\n",
    "- Loops\n",
    "- Functions\n",
    "- Classes and Objects\n",
    "- Modules and Packages\n"
   ]
  },
  {
   "cell_type": "markdown",
   "metadata": {},
   "source": [
    "---\n",
    "\n",
    "### Every programming language can be broken down into core components. \n",
    "\n",
    "Having a general framework for this context will help us learn specifics for Python.\n",
    "\n",
    "> __Syntax:__ The structure of the commands given to the computer\n",
    "\n",
    "> __Variables:__ How computers store information\n",
    "\n",
    "> __Control Structures:__ Sets the hierarchy/priorities of programming logic\n",
    "\n",
    "> __Data Structures:__ How computers organize data\n"
   ]
  },
  {
   "cell_type": "code",
   "execution_count": null,
   "metadata": {},
   "outputs": [],
   "source": []
  },
  {
   "cell_type": "markdown",
   "metadata": {},
   "source": [
    "---\n",
    "# Quote me!"
   ]
  },
  {
   "cell_type": "code",
   "execution_count": null,
   "metadata": {},
   "outputs": [],
   "source": [
    "# this is a comment line\n",
    "\n",
    "print('hello world') # single quotes"
   ]
  },
  {
   "cell_type": "code",
   "execution_count": null,
   "metadata": {},
   "outputs": [],
   "source": [
    "print(\"hello world\") # double quotes"
   ]
  },
  {
   "cell_type": "code",
   "execution_count": null,
   "metadata": {},
   "outputs": [],
   "source": []
  },
  {
   "cell_type": "code",
   "execution_count": null,
   "metadata": {},
   "outputs": [],
   "source": []
  },
  {
   "cell_type": "markdown",
   "metadata": {},
   "source": [
    "# You try!\n",
    "\n",
    "Find a famous quote, and use the print statement to create output that looks something like the following (INCLUDING the quotation marks):\n",
    "\n",
    "> Albert Einstein once said, “A person who never made a mistake never tried anything new.”"
   ]
  },
  {
   "cell_type": "code",
   "execution_count": null,
   "metadata": {
    "scrolled": false
   },
   "outputs": [],
   "source": []
  },
  {
   "cell_type": "markdown",
   "metadata": {},
   "source": [
    "---\n",
    "\n",
    "# Variables\n",
    "\n",
    "- Created by being assigned\n"
   ]
  },
  {
   "cell_type": "code",
   "execution_count": null,
   "metadata": {},
   "outputs": [],
   "source": [
    "x = 3"
   ]
  },
  {
   "cell_type": "markdown",
   "metadata": {},
   "source": [
    "- Must be assigned before appearing in an expression, as they have no default value"
   ]
  },
  {
   "cell_type": "code",
   "execution_count": null,
   "metadata": {},
   "outputs": [],
   "source": [
    "variable_1"
   ]
  },
  {
   "cell_type": "code",
   "execution_count": null,
   "metadata": {},
   "outputs": [],
   "source": []
  },
  {
   "cell_type": "markdown",
   "metadata": {},
   "source": [
    "- Have object references as values, may reference any type of object"
   ]
  },
  {
   "cell_type": "code",
   "execution_count": null,
   "metadata": {},
   "outputs": [],
   "source": [
    "type(x) # type function"
   ]
  },
  {
   "cell_type": "markdown",
   "metadata": {},
   "source": [
    "- You can change the value of a variable in your program at any time, and Python will always keep track of its current value."
   ]
  },
  {
   "cell_type": "code",
   "execution_count": null,
   "metadata": {},
   "outputs": [],
   "source": [
    "message = \"Hello World!\"\n",
    "print(message)"
   ]
  },
  {
   "cell_type": "code",
   "execution_count": null,
   "metadata": {},
   "outputs": [],
   "source": [
    "message = \"And now, Goodbye!\"\n",
    "print(message)"
   ]
  },
  {
   "cell_type": "code",
   "execution_count": null,
   "metadata": {},
   "outputs": [],
   "source": []
  },
  {
   "cell_type": "markdown",
   "metadata": {},
   "source": [
    "---\n",
    "# Variables and Operators"
   ]
  },
  {
   "cell_type": "code",
   "execution_count": null,
   "metadata": {},
   "outputs": [],
   "source": [
    "x = 44\n",
    "new_x = x + 88"
   ]
  },
  {
   "cell_type": "markdown",
   "metadata": {},
   "source": [
    "- Add parenthesis to the expression below to change its value from 4 to -6."
   ]
  },
  {
   "cell_type": "code",
   "execution_count": null,
   "metadata": {},
   "outputs": [],
   "source": [
    "6 * 1 - 2"
   ]
  },
  {
   "cell_type": "code",
   "execution_count": null,
   "metadata": {},
   "outputs": [],
   "source": [
    "number_var = 7\n",
    "number_var += 2\n",
    "print(number_var)\n"
   ]
  },
  {
   "cell_type": "code",
   "execution_count": null,
   "metadata": {},
   "outputs": [],
   "source": [
    "print(5 // 2)\n",
    "print(5%2)\n",
    "print(5 - 2 * (5//2))\n",
    "print(5/2)\n",
    "print(5**2)\n"
   ]
  },
  {
   "cell_type": "code",
   "execution_count": null,
   "metadata": {},
   "outputs": [],
   "source": [
    "name = \"ada lovelace\"\n",
    "print(name.title())"
   ]
  },
  {
   "cell_type": "markdown",
   "metadata": {},
   "source": [
    "# Combining or Concatenating Strings\n",
    "- It’s often useful to combine strings.\n",
    "- For example, you might want to store a first name and a last name in separate variables, and then combine them when you want to display someone’s full name, as shown below:"
   ]
  },
  {
   "cell_type": "code",
   "execution_count": null,
   "metadata": {},
   "outputs": [],
   "source": [
    "first = 'ada'\n",
    "last = 'lovelace'\n",
    "full_name = first + \" \" + last\n",
    "\n",
    "print(full_name)"
   ]
  },
  {
   "cell_type": "code",
   "execution_count": null,
   "metadata": {},
   "outputs": [],
   "source": []
  },
  {
   "cell_type": "markdown",
   "metadata": {},
   "source": [
    "# Explore Time!"
   ]
  },
  {
   "cell_type": "code",
   "execution_count": null,
   "metadata": {},
   "outputs": [],
   "source": []
  },
  {
   "cell_type": "code",
   "execution_count": null,
   "metadata": {},
   "outputs": [],
   "source": []
  },
  {
   "cell_type": "code",
   "execution_count": null,
   "metadata": {},
   "outputs": [],
   "source": []
  },
  {
   "cell_type": "markdown",
   "metadata": {},
   "source": [
    "# Try this:\n",
    "\n",
    "1. Store your favorite number in a variable.\n",
    "2. Then, using that variable, create a message variable that reveals your favorite number.\n",
    "3. Print that message."
   ]
  },
  {
   "cell_type": "code",
   "execution_count": null,
   "metadata": {},
   "outputs": [],
   "source": []
  },
  {
   "cell_type": "code",
   "execution_count": null,
   "metadata": {},
   "outputs": [],
   "source": []
  },
  {
   "cell_type": "code",
   "execution_count": null,
   "metadata": {},
   "outputs": [],
   "source": []
  },
  {
   "cell_type": "markdown",
   "metadata": {},
   "source": [
    "# Input from user"
   ]
  },
  {
   "cell_type": "code",
   "execution_count": null,
   "metadata": {},
   "outputs": [],
   "source": [
    "text = input(\"Type something: \")\n",
    "\n",
    "print(\"This is what you typed:\", text)"
   ]
  },
  {
   "cell_type": "code",
   "execution_count": null,
   "metadata": {},
   "outputs": [],
   "source": [
    "# What happens when you run this code?\n",
    "\n",
    "num_ex = input(\"give me a num\")\n",
    "\n",
    "print(num_ex + 4000)"
   ]
  },
  {
   "cell_type": "code",
   "execution_count": null,
   "metadata": {},
   "outputs": [],
   "source": []
  },
  {
   "cell_type": "markdown",
   "metadata": {},
   "source": [
    "---\n",
    "# Let's put it all together! \n",
    "\n",
    "### Compound interest program\n",
    "\n",
    "> The formula for computing the final amount if one is earning compound interest is given on Wikipedia as: __A = P(1 + r/n)^nt__\n",
    "\n",
    "- Where P = principal amount (initial investment)\n",
    "- r = annual nominal interest rate (as a decimal)\n",
    "- n = number of times the interest is compounded per year\n",
    "- t = number of years"
   ]
  },
  {
   "cell_type": "markdown",
   "metadata": {},
   "source": [
    "> __Complete the following tasks:__\n",
    "- Write a Python program that: \n",
    "    - assigns the principal amount of $10000 to variable P\n",
    "    - assigns the value 12 to n\n",
    "    - assigns the interest rate of 8% to r.\n",
    "- Then have the program prompt the user for the number of years t that the money will be compounded for.\n",
    "- Calculate and print the final amount after t years."
   ]
  },
  {
   "cell_type": "code",
   "execution_count": null,
   "metadata": {},
   "outputs": [],
   "source": []
  },
  {
   "cell_type": "code",
   "execution_count": null,
   "metadata": {},
   "outputs": [],
   "source": []
  },
  {
   "cell_type": "markdown",
   "metadata": {},
   "source": [
    "### Try another!\n",
    "\n",
    "> __Create a program that converts the number of seconds a user wants to convert to hours, minutes, seconds.__"
   ]
  },
  {
   "cell_type": "code",
   "execution_count": null,
   "metadata": {},
   "outputs": [],
   "source": []
  },
  {
   "cell_type": "code",
   "execution_count": null,
   "metadata": {},
   "outputs": [],
   "source": []
  },
  {
   "cell_type": "code",
   "execution_count": null,
   "metadata": {},
   "outputs": [],
   "source": []
  },
  {
   "cell_type": "markdown",
   "metadata": {},
   "source": [
    "---\n",
    "### Solutions to exercise problems above:"
   ]
  },
  {
   "cell_type": "code",
   "execution_count": null,
   "metadata": {},
   "outputs": [],
   "source": [
    "# Compound interest program\n",
    "\n",
    "P = 10000\n",
    "n = 12\n",
    "r = .08\n",
    "t = float(input('How many years will the money be compounded for? '))\n",
    "A = P * (1 + r/n)**(n*t)\n",
    "\n",
    "\n",
    "print('Your initial investment of $10,000 after ' + str(t) + ' year(s) is now worth $' + str(round(A, 2)) + '!')\n"
   ]
  },
  {
   "cell_type": "code",
   "execution_count": null,
   "metadata": {},
   "outputs": [],
   "source": [
    "# Second to hours/minutes/secs conversion program\n",
    "\n",
    "str_seconds = input(\"Please enter the number of seconds you wish to convert\")\n",
    "total_secs = int(str_seconds)\n",
    "\n",
    "hours = total_secs // 3600\n",
    "secs_still_remaining = total_secs % 3600\n",
    "minutes =  secs_still_remaining // 60\n",
    "secs_finally_remaining = secs_still_remaining  % 60\n",
    "\n",
    "print(\"Hrs=\", hours, \"mins=\", minutes, \"secs=\", secs_finally_remaining)"
   ]
  },
  {
   "cell_type": "markdown",
   "metadata": {},
   "source": [
    "---\n",
    "# EXTRA CONTENT #\n",
    "---"
   ]
  },
  {
   "cell_type": "markdown",
   "metadata": {},
   "source": [
    "# Lists"
   ]
  },
  {
   "cell_type": "code",
   "execution_count": null,
   "metadata": {},
   "outputs": [],
   "source": [
    "my_list = [ 1,2,3,4,5,6,7,8,9,10]\n",
    "my_list"
   ]
  },
  {
   "cell_type": "code",
   "execution_count": null,
   "metadata": {},
   "outputs": [],
   "source": [
    "my_list[3::2] # start : end : skip"
   ]
  },
  {
   "cell_type": "code",
   "execution_count": null,
   "metadata": {},
   "outputs": [],
   "source": [
    "my_list.append(7)\n",
    "my_list"
   ]
  },
  {
   "cell_type": "code",
   "execution_count": null,
   "metadata": {},
   "outputs": [],
   "source": [
    "my_list.remove(2)\n",
    "my_list"
   ]
  },
  {
   "cell_type": "code",
   "execution_count": null,
   "metadata": {},
   "outputs": [],
   "source": []
  },
  {
   "cell_type": "markdown",
   "metadata": {},
   "source": [
    "# Dictionaries"
   ]
  },
  {
   "cell_type": "code",
   "execution_count": null,
   "metadata": {},
   "outputs": [],
   "source": [
    "ages = {\"Adam\": 32, \"Ashley\": 24, \"Jon\": 54}\n",
    "ages"
   ]
  },
  {
   "cell_type": "code",
   "execution_count": null,
   "metadata": {},
   "outputs": [],
   "source": [
    "ages[\"Adam\"]"
   ]
  },
  {
   "cell_type": "code",
   "execution_count": null,
   "metadata": {},
   "outputs": [],
   "source": []
  },
  {
   "cell_type": "markdown",
   "metadata": {},
   "source": [
    "# if"
   ]
  },
  {
   "cell_type": "code",
   "execution_count": null,
   "metadata": {},
   "outputs": [],
   "source": [
    "A = 10\n",
    "B = 100"
   ]
  },
  {
   "cell_type": "code",
   "execution_count": null,
   "metadata": {},
   "outputs": [],
   "source": [
    "if A == 10:\n",
    "    print(\"var is 10\")"
   ]
  },
  {
   "cell_type": "code",
   "execution_count": null,
   "metadata": {},
   "outputs": [],
   "source": [
    "if B == 10:\n",
    "    print(\"var is 10\")"
   ]
  },
  {
   "cell_type": "code",
   "execution_count": null,
   "metadata": {},
   "outputs": [],
   "source": [
    "if A == 10:\n",
    "    print(\"var is 10\")\n",
    "else:\n",
    "    print(\"var is not 10\")"
   ]
  },
  {
   "cell_type": "code",
   "execution_count": null,
   "metadata": {},
   "outputs": [],
   "source": [
    "if B == 10:\n",
    "    print(\"var is 10\")\n",
    "else:\n",
    "    print(\"var is not 10\")"
   ]
  },
  {
   "cell_type": "code",
   "execution_count": null,
   "metadata": {},
   "outputs": [],
   "source": []
  },
  {
   "cell_type": "markdown",
   "metadata": {},
   "source": [
    "# for Loops"
   ]
  },
  {
   "cell_type": "code",
   "execution_count": null,
   "metadata": {},
   "outputs": [],
   "source": [
    "total = 0\n",
    "for number in [1,2,3,4,5]:\n",
    "    total += number\n",
    "print(\"total is:\",total)"
   ]
  },
  {
   "cell_type": "code",
   "execution_count": null,
   "metadata": {},
   "outputs": [],
   "source": [
    "import time\n",
    "counter = 0\n",
    "my_list = [1,2,3,4,5]\n",
    "for number in my_list:\n",
    "    counter += 1\n",
    "    my_list.append(counter) # extending the list means we will never finish\n",
    "    print(\"new_list:\", my_list)\n",
    "    time.sleep(1)"
   ]
  },
  {
   "cell_type": "code",
   "execution_count": null,
   "metadata": {},
   "outputs": [],
   "source": [
    "counter = 0\n",
    "my_list = [1,2,3,4,5]\n",
    "for number in my_list:\n",
    "    counter += 1\n",
    "#     my_list.append(counter)\n",
    "    print(\"new_list:\", my_list)\n",
    "    time.sleep(1)"
   ]
  },
  {
   "cell_type": "code",
   "execution_count": null,
   "metadata": {},
   "outputs": [],
   "source": []
  },
  {
   "cell_type": "markdown",
   "metadata": {},
   "source": [
    "# Functions"
   ]
  },
  {
   "cell_type": "code",
   "execution_count": null,
   "metadata": {},
   "outputs": [],
   "source": [
    "square"
   ]
  },
  {
   "cell_type": "code",
   "execution_count": null,
   "metadata": {},
   "outputs": [],
   "source": [
    "def square(x):\n",
    "    \"\"\"Return the square of x\"\"\"\n",
    "    return x ** 2  # no output when defining the function because there was no execution"
   ]
  },
  {
   "cell_type": "code",
   "execution_count": null,
   "metadata": {},
   "outputs": [],
   "source": [
    "square(3)"
   ]
  },
  {
   "cell_type": "code",
   "execution_count": null,
   "metadata": {},
   "outputs": [],
   "source": [
    "x = square(5)  # here output is saved in x rather than being presented on the screen"
   ]
  },
  {
   "cell_type": "code",
   "execution_count": null,
   "metadata": {},
   "outputs": [],
   "source": [
    "x"
   ]
  },
  {
   "cell_type": "code",
   "execution_count": null,
   "metadata": {},
   "outputs": [],
   "source": []
  },
  {
   "cell_type": "code",
   "execution_count": null,
   "metadata": {},
   "outputs": [],
   "source": []
  },
  {
   "cell_type": "markdown",
   "metadata": {},
   "source": [
    "# Example\n",
    "\n",
    "I recommend starting a new notebook for this example problem (\"download as .py\" and run all cells are not useful since we have intentional errors up above...)\n",
    "\n",
    "The data used here show measured car speeds with 3 other labels\n",
    "\n",
    "1. **pair** - There are 14 pairs of data collected\n",
    "2. **warning** - For each pair, two sections of road were measured:\n",
    "    1. where a warning sign was placed for part of the experiment\n",
    "    2. a similar stretch of road in another part of town where no sign was erected during the experiment (control)\n",
    "3. **period** - (each period has about 100 points) There are 3 time periods in the data for each pair:\n",
    "    1. Before the warning sign was placed on road section 1\n",
    "    2. Just after the sign was placed on road section 1\n",
    "    3. Some time after the sign was erected (so the sign is no longer \"new\")\n",
    "\n",
    "We want to study how the **average speed changes** in one section of road (pair 7, say) after the sign was erected, so we need to:\n",
    "\n",
    "- Read the data\n",
    "- Loop over the rows of data\n",
    "- Select data only from the group of interest\n",
    "- Compute the answer"
   ]
  },
  {
   "cell_type": "code",
   "execution_count": null,
   "metadata": {},
   "outputs": [],
   "source": []
  },
  {
   "cell_type": "code",
   "execution_count": null,
   "metadata": {},
   "outputs": [],
   "source": [
    "# pandas is like Excel for Python\n",
    "# it adds a DataFrame data structure to hold data\n",
    "# and functions for reading datafiles easily\n",
    "\n",
    "# Read in a dataset from the web\n",
    "# Google R datasets, should see listing as second hit linking to:\n",
    "# https://vincentarelbundock.github.io/Rdatasets/datasets.html\n",
    "# Using the amis dataset, #5 on that page\n",
    "\n",
    "# see the documentation for the dataset at\n",
    "# https://vincentarelbundock.github.io/Rdatasets/doc/boot/amis.html\n",
    "\n",
    "# this will also work with data stored on your computer\n",
    "# see pd.read_sql() and pd.read_excel()\n",
    "# for more data input options\n",
    "\n",
    "import pandas as pd\n",
    "df = pd.read_csv(\n",
    "    \"https://vincentarelbundock.github.io/Rdatasets/csv/boot/amis.csv\",\n",
    "    usecols=range(1,5)\n",
    "                )"
   ]
  },
  {
   "cell_type": "code",
   "execution_count": null,
   "metadata": {},
   "outputs": [],
   "source": [
    "df.head() # preview the data"
   ]
  },
  {
   "cell_type": "code",
   "execution_count": null,
   "metadata": {},
   "outputs": [],
   "source": [
    "for row in df.head().values:  # loop over the rows... test loop on just a few rows to check\n",
    "    print(row)"
   ]
  },
  {
   "cell_type": "code",
   "execution_count": null,
   "metadata": {},
   "outputs": [],
   "source": [
    "for row in df.head().values:  # each row is a list, and I want to filter pair = 7\n",
    "    print(row[3]) # pair is the last column, so I need to slice the last element from each list"
   ]
  },
  {
   "cell_type": "code",
   "execution_count": null,
   "metadata": {},
   "outputs": [],
   "source": [
    "my_list = [] # empty list to save just the data I want\n",
    "for row in df.values:\n",
    "    if row[3] == 7: # use an if statement to select just pair 7, note the if is nested inside the loop\n",
    "        my_list.append(row[0]) # append the speed (index 0) to another list to store the data, note this is indented even more!!\n",
    "\n",
    "len(my_list)  # see how much data I got"
   ]
  },
  {
   "cell_type": "code",
   "execution_count": null,
   "metadata": {},
   "outputs": [],
   "source": [
    "before = [] # empty list to save just the data I want\n",
    "for row in df.values:\n",
    "    if row[3] == 7:  # filter to road segment 7\n",
    "        if row[2] == 1: # filter just the roads with a warning sign erected\n",
    "            before.append(row[0]) # note this is indented even more!!\n",
    "\n",
    "len(before)  # see how much data I got"
   ]
  },
  {
   "cell_type": "code",
   "execution_count": null,
   "metadata": {},
   "outputs": [],
   "source": [
    "before = [] # empty list to save just the data I want\n",
    "after = [] # empty list to save just the data I want\n",
    "\n",
    "for row in df.values:\n",
    "    if row[3] == 7:  # filter to road segment 7\n",
    "        if row[2] == 1: # filter just the roads with a warning sign erected\n",
    "            if row[1] == 1: # filter to just the time before the sign\n",
    "                before.append(row[0]) # note this is indented even more!!\n",
    "            if row[1] == 3: # filter to just the time after the sign\n",
    "                after.append(row[0]) # note this is indented even more!!\n",
    "\n",
    "len(before), len(after)   # see how much data I got"
   ]
  },
  {
   "cell_type": "code",
   "execution_count": null,
   "metadata": {},
   "outputs": [],
   "source": [
    "print(\"average before sign: \", sum(before)/len(before))  # average = sum / N"
   ]
  },
  {
   "cell_type": "code",
   "execution_count": null,
   "metadata": {},
   "outputs": [],
   "source": [
    "print(\"average after sign: \", sum(after)/len(after))  # average = sum / N"
   ]
  },
  {
   "cell_type": "code",
   "execution_count": null,
   "metadata": {},
   "outputs": [],
   "source": [
    "# Looks like the sign made no difference "
   ]
  },
  {
   "cell_type": "code",
   "execution_count": null,
   "metadata": {},
   "outputs": [],
   "source": [
    "# rather than repeat this process in one line with pandas!\n",
    "df.groupby(['pair','warning','period']).agg(['mean','std']).round(2)"
   ]
  },
  {
   "cell_type": "code",
   "execution_count": null,
   "metadata": {},
   "outputs": [],
   "source": [
    "df['speed'].hist() # pandas has lots of other cool features too!"
   ]
  },
  {
   "cell_type": "code",
   "execution_count": null,
   "metadata": {},
   "outputs": [],
   "source": []
  },
  {
   "cell_type": "markdown",
   "metadata": {},
   "source": [
    "# Download and run as script"
   ]
  },
  {
   "cell_type": "markdown",
   "metadata": {},
   "source": [
    "0. Change the Notebook name to `speeding_example`\n",
    "1. File > Download As > Python (.py)\n",
    "    - Click \"Keep\" if Browser warns file may be dangerous\n",
    "2. Open new Terminal (or Anaconda Prompt) window\n",
    "3. Change to Downloads folder in Terminal\n",
    "    - type: `cd Downloads` and press enter\n",
    "4. Run the python script\n",
    "    - type: `python speeding_example.py` and press enter\n",
    "    \n",
    "Note only the printed output lines appear in the terminal!"
   ]
  },
  {
   "cell_type": "code",
   "execution_count": null,
   "metadata": {},
   "outputs": [],
   "source": []
  }
 ],
 "metadata": {
  "kernelspec": {
   "display_name": "Python 3",
   "language": "python",
   "name": "python3"
  },
  "language_info": {
   "codemirror_mode": {
    "name": "ipython",
    "version": 3
   },
   "file_extension": ".py",
   "mimetype": "text/x-python",
   "name": "python",
   "nbconvert_exporter": "python",
   "pygments_lexer": "ipython3",
   "version": "3.6.8"
  }
 },
 "nbformat": 4,
 "nbformat_minor": 2
}
